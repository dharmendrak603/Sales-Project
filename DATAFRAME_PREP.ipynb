{
 "cells": [
  {
   "cell_type": "code",
   "execution_count": 22,
   "id": "944bf8fc",
   "metadata": {},
   "outputs": [],
   "source": [
    "from pyspark.sql.functions import col, trim, to_date, regexp_replace, round\n",
    "from pyspark.sql.types import DoubleType"
   ]
  },
  {
   "cell_type": "code",
   "execution_count": 23,
   "id": "ff87f90b",
   "metadata": {},
   "outputs": [],
   "source": [
    "from pyspark.sql import SparkSession\n",
    "import os\n",
    "os.environ[\"PYSPARK_PYTHON\"] = (r\"C:\\Users\\Dharmendra\\AppData\\Local\\Programs\\Python\\Python310\\pythonw.exe\")"
   ]
  },
  {
   "cell_type": "code",
   "execution_count": 24,
   "id": "3bd90f05",
   "metadata": {},
   "outputs": [],
   "source": [
    "spark = SparkSession.builder \\\n",
    "    .master(\"local\") \\\n",
    "    .appName(\"SalesDB\") \\\n",
    "    .config(\"spark.driver.memory\", \"2g\") \\\n",
    "    .config(\"spark.driver.extraClassPath\", \"D:\\\\Data Engineering\\\\Sales_Aug12\\\\jdbc\\\\postgresql-42.6.0.jar\") \\\n",
    "    .getOrCreate()"
   ]
  },
  {
   "cell_type": "markdown",
   "id": "7dc2b655",
   "metadata": {},
   "source": [
    "Initial transformation steps:-\n",
    "\n",
    "1. import data into df."
   ]
  },
  {
   "cell_type": "code",
   "execution_count": 25,
   "id": "fa9d7650",
   "metadata": {},
   "outputs": [],
   "source": [
    "raw_data = spark.read.csv(\"data.csv\",header=True,inferSchema=True)"
   ]
  },
  {
   "cell_type": "code",
   "execution_count": 26,
   "id": "03023ed4",
   "metadata": {},
   "outputs": [
    {
     "name": "stdout",
     "output_type": "stream",
     "text": [
      "Column 'country' has data type: StringType()\n",
      "Column 'order_value_EUR ' has data type: StringType()\n",
      "Column ' cost ' has data type: DoubleType()\n",
      "Column 'date' has data type: StringType()\n",
      "Column 'category' has data type: StringType()\n",
      "Column 'customer_name' has data type: StringType()\n",
      "Column 'sales_manager' has data type: StringType()\n",
      "Column 'sales_rep' has data type: StringType()\n",
      "Column 'device_type' has data type: StringType()\n",
      "Column 'order_id' has data type: StringType()\n"
     ]
    }
   ],
   "source": [
    "# Get the schema of the DataFrame\n",
    "df_schema = raw_data.schema\n",
    "\n",
    "# Iterate through the fields in the schema and print their names and data types\n",
    "for field in df_schema.fields:\n",
    "    print(f\"Column '{field.name}' has data type: {field.dataType}\")\n",
    "\n"
   ]
  },
  {
   "cell_type": "markdown",
   "id": "ee55123f",
   "metadata": {},
   "source": [
    "2. change datatype accrodingly:-\n",
    "\tcountry\t str,\n",
    "\tcategory str,\n",
    "\tcustomer_name\t str,\n",
    "\tsales_manager str,\t\n",
    "\tsales_rep\tstr,\n",
    "\tdevice_type\tstr,\n",
    "\torder_id str,\n",
    "\torder_value_EUR \t double,\n",
    "\tcost \tdouble,\n",
    "\tdate\tdate\t"
   ]
  },
  {
   "cell_type": "code",
   "execution_count": 27,
   "id": "e253470b",
   "metadata": {},
   "outputs": [],
   "source": [
    "columns = (\"country\",\"order_value_EUR\",\"\",\"cost\",\"date\",\"category\",\"customer_name\",\"sales_manager\",\"sales_rep\",\"device_type\",\"order_id\")"
   ]
  },
  {
   "cell_type": "code",
   "execution_count": 28,
   "id": "93354b20",
   "metadata": {},
   "outputs": [],
   "source": [
    "#Removing extra spaces from the column names.\n",
    "new_column_names = [col_name.strip() for col_name in raw_data.columns]\n",
    "raw_data = raw_data.toDF(*new_column_names)"
   ]
  },
  {
   "cell_type": "code",
   "execution_count": 29,
   "id": "00d69b52",
   "metadata": {},
   "outputs": [],
   "source": [
    "raw_data = raw_data.withColumn(\"order_value\",col(\"order_value_EUR\"))\n",
    "                    "
   ]
  },
  {
   "cell_type": "code",
   "execution_count": 30,
   "id": "261329cc",
   "metadata": {},
   "outputs": [],
   "source": [
    "# Remove commas from the order_value column\n",
    "raw_data = raw_data.withColumn(\"order_value\", regexp_replace(col(\"order_value\"), \"[^0-9.]\", \"\"))"
   ]
  },
  {
   "cell_type": "code",
   "execution_count": 31,
   "id": "af4e708b",
   "metadata": {},
   "outputs": [],
   "source": [
    "raw_data = raw_data.withColumn(\"order_value\",col(\"order_value\").cast(\"double\"))\\\n",
    "                    .withColumn(\"date\", to_date(col(\"date\"), \"M/d/yyyy\"))\\\n",
    "                    .drop(\"order_value_EUR\")\\\n",
    "                    .withColumn(\"profit\", round(col(\"order_value\") - col(\"cost\"),2))\\\n",
    "                    .withColumn(\"profit_percentage\", round((col(\"profit\") / col(\"order_value\")) * 100, 2))\n",
    "                    "
   ]
  },
  {
   "cell_type": "code",
   "execution_count": 36,
   "id": "791fe97c",
   "metadata": {},
   "outputs": [],
   "source": [
    "#Load raw_data df to raw_tbl\n",
    "\n",
    "\n",
    "raw_data.write \\\n",
    "    .format(\"jdbc\") \\\n",
    "    .option(\"url\", \"jdbc:postgresql://localhost:5433/sales\") \\\n",
    "    .option(\"dbtable\", \"raw_tbl\") \\\n",
    "    .option(\"user\", \"postgres\") \\\n",
    "    .option(\"password\", \"123\") \\\n",
    "    .option(\"driver\", \"org.postgresql.Driver\") \\\n",
    "    .save()"
   ]
  },
  {
   "cell_type": "code",
   "execution_count": 32,
   "id": "92bba893",
   "metadata": {},
   "outputs": [],
   "source": [
    "#4. Desribute the data into three more tables other than Sales_tbl .\n",
    "\n",
    "\n",
    "\n"
   ]
  },
  {
   "cell_type": "code",
   "execution_count": 33,
   "id": "6375536a",
   "metadata": {},
   "outputs": [],
   "source": [
    "# creating revenue dataframe from raw_data and load into table\n",
    "revenue_df = raw_data.select(\"country\",\"order_value\",\"date\",\"order_id\")\n",
    "revenue_df.write \\\n",
    "    .format(\"jdbc\") \\\n",
    "    .option(\"url\", \"jdbc:postgresql://localhost:5433/sales\") \\\n",
    "    .option(\"dbtable\", \"revenue_tbl\") \\\n",
    "    .option(\"user\", \"postgres\") \\\n",
    "    .option(\"password\", \"123\") \\\n",
    "    .option(\"driver\", \"org.postgresql.Driver\") \\\n",
    "    .save()"
   ]
  },
  {
   "cell_type": "code",
   "execution_count": 34,
   "id": "4ca4592c",
   "metadata": {},
   "outputs": [],
   "source": [
    "#Creating profit dataframe from raw_data and load into table\n",
    "profit_df = raw_data.select(\"country\",\"date\",\"category\",\"profit\",\"profit_percentage\")\n",
    "profit_df.write \\\n",
    "    .format(\"jdbc\") \\\n",
    "    .option(\"url\", \"jdbc:postgresql://localhost:5433/sales\") \\\n",
    "    .option(\"dbtable\", \"profit_tbl\") \\\n",
    "    .option(\"user\", \"postgres\") \\\n",
    "    .option(\"password\", \"123\") \\\n",
    "    .option(\"driver\", \"org.postgresql.Driver\") \\\n",
    "    .save()"
   ]
  },
  {
   "cell_type": "code",
   "execution_count": 35,
   "id": "79e506ba",
   "metadata": {},
   "outputs": [],
   "source": [
    "#Creating corelation dataframe from raw_data and load into table\n",
    "\n",
    "corelation_df = raw_data.select(\"sales_manager\",\"sales_rep\",\"order_value\",\"date\")\n",
    "corelation_df.write \\\n",
    "    .format(\"jdbc\") \\\n",
    "    .option(\"url\", \"jdbc:postgresql://localhost:5433/sales\") \\\n",
    "    .option(\"dbtable\", \"correlation_tbl\") \\\n",
    "    .option(\"user\", \"postgres\") \\\n",
    "    .option(\"password\", \"123\") \\\n",
    "    .option(\"driver\", \"org.postgresql.Driver\") \\\n",
    "    .save()"
   ]
  }
 ],
 "metadata": {
  "kernelspec": {
   "display_name": "Python 3 (ipykernel)",
   "language": "python",
   "name": "python3"
  },
  "language_info": {
   "codemirror_mode": {
    "name": "ipython",
    "version": 3
   },
   "file_extension": ".py",
   "mimetype": "text/x-python",
   "name": "python",
   "nbconvert_exporter": "python",
   "pygments_lexer": "ipython3",
   "version": "3.10.6"
  }
 },
 "nbformat": 4,
 "nbformat_minor": 5
}
