{
 "cells": [
  {
   "cell_type": "code",
   "execution_count": 2,
   "id": "4d2a4cf1",
   "metadata": {},
   "outputs": [],
   "source": [
    "import psycopg2\n",
    "from config import config"
   ]
  },
  {
   "cell_type": "code",
   "execution_count": 4,
   "id": "6ce66f92",
   "metadata": {},
   "outputs": [
    {
     "name": "stdout",
     "output_type": "stream",
     "text": [
      "Connecting to the postgreSQL database...\n",
      "Postgres database version\n",
      "('PostgreSQL 15.4, compiled by Visual C++ build 1914, 64-bit',)\n",
      "Database connection terminated\n"
     ]
    }
   ],
   "source": [
    "def connect():\n",
    "    connection = None\n",
    "    try:\n",
    "        \n",
    "        params =config()\n",
    "        print(\"Connecting to the postgreSQL database...\")\n",
    "        connection = psycopg2.connect(**params)\n",
    "        #create a cursor\n",
    "        crsr = connection.cursor()\n",
    "        print(\"Postgres database version\")\n",
    "        crsr.execute(\"SELECT version() \")\n",
    "        db_version = crsr.fetchone()\n",
    "        print(db_version)\n",
    "        crsr.close()\n",
    "    except(Exception, psycopg2.DatabaseError) as error:\n",
    "        print(error)\n",
    "    finally:\n",
    "        if connection is not None:\n",
    "            connection.close()\n",
    "            print(\"Database connection terminated\")\n",
    "if __name__ == \"__main__\":\n",
    "    connect()"
   ]
  },
  {
   "cell_type": "code",
   "execution_count": null,
   "id": "57f5d406",
   "metadata": {},
   "outputs": [],
   "source": []
  }
 ],
 "metadata": {
  "kernelspec": {
   "display_name": "Python 3 (ipykernel)",
   "language": "python",
   "name": "python3"
  },
  "language_info": {
   "codemirror_mode": {
    "name": "ipython",
    "version": 3
   },
   "file_extension": ".py",
   "mimetype": "text/x-python",
   "name": "python",
   "nbconvert_exporter": "python",
   "pygments_lexer": "ipython3",
   "version": "3.10.6"
  }
 },
 "nbformat": 4,
 "nbformat_minor": 5
}
